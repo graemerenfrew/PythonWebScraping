{
 "cells": [
  {
   "cell_type": "markdown",
   "metadata": {},
   "source": [
    "# Extracting data using Web Scraping\n"
   ]
  },
  {
   "cell_type": "code",
   "execution_count": 1,
   "metadata": {},
   "outputs": [],
   "source": [
    "# import \n",
    "import requests #some package we used with API"
   ]
  },
  {
   "cell_type": "code",
   "execution_count": 2,
   "metadata": {},
   "outputs": [],
   "source": [
    "from bs4 import BeautifulSoup"
   ]
  },
  {
   "cell_type": "code",
   "execution_count": 3,
   "metadata": {},
   "outputs": [],
   "source": [
    "#Let's create a dummy HTML document for the purposes of this exercise\n",
    "# HTML String\n",
    "html_string = \"\"\"\n",
    "<!doctype html>\n",
    "<html lang=\"en\">\n",
    "<head>\n",
    "  <title>Web Scraping Example</title>\n",
    "</head>\n",
    "<body>\n",
    "  <h1 style=\"color:#F15B2A;\">Web Scraping Example</h1>\n",
    "  <p id=\"author\">Author : Graeme Renfrew</p>\n",
    "  <p id=\"description\">This exercise shows how to perform various data science activities using python.</p>\n",
    "  \n",
    "  <h3 style=\"color:#404040\">Movies</h3>\n",
    "  <table id=\"module\" style=\"width:100%\">\n",
    "      <tr>\n",
    "        <th>Title</th>\n",
    "        <th>Duration (In Minutes)</th> \n",
    "      </tr>\n",
    "      <tr>\n",
    "        <td>Jaws</td>\n",
    "        <td>130</td> \n",
    "      </tr>\n",
    "      <tr>\n",
    "        <td>Star Wars: A New Hope</td>\n",
    "        <td>125</td> \n",
    "      </tr>\n",
    "      <tr>\n",
    "        <td>Life is Beautiful</td>\n",
    "        <td>122</td> \n",
    "      </tr>\n",
    "      <tr>\n",
    "        <td>Life of Brian</td>\n",
    "        <td>94</td> \n",
    "      </tr>\n",
    "      <tr>\n",
    "        <td>Arrival</td>\n",
    "        <td>45</td> \n",
    "      </tr>\n",
    "      <tr>\n",
    "        <td>American Gangster</td>\n",
    "        <td>30</td> \n",
    "      </tr>\n",
    "  </table>\n",
    "</body>\n",
    "</html>\n",
    "\"\"\""
   ]
  },
  {
   "cell_type": "code",
   "execution_count": 4,
   "metadata": {},
   "outputs": [
    {
     "data": {
      "text/html": [
       "\n",
       "<!doctype html>\n",
       "<html lang=\"en\">\n",
       "<head>\n",
       "  <title>Web Scraping Example</title>\n",
       "</head>\n",
       "<body>\n",
       "  <h1 style=\"color:#F15B2A;\">Web Scraping Example</h1>\n",
       "  <p id=\"author\">Author : Graeme Renfrew</p>\n",
       "  <p id=\"description\">This exercise shows how to perform various data science activities using python.</p>\n",
       "  \n",
       "  <h3 style=\"color:#404040\">Modules</h3>\n",
       "  <table id=\"module\" style=\"width:100%\">\n",
       "      <tr>\n",
       "        <th>Title</th>\n",
       "        <th>Duration (In Minutes)</th> \n",
       "      </tr>\n",
       "      <tr>\n",
       "        <td>Getting Started</td>\n",
       "        <td>20</td> \n",
       "      </tr>\n",
       "      <tr>\n",
       "        <td>Setting up the Environment</td>\n",
       "        <td>40</td> \n",
       "      </tr>\n",
       "      <tr>\n",
       "        <td>Extracting Data</td>\n",
       "        <td>35</td> \n",
       "      </tr>\n",
       "      <tr>\n",
       "        <td>Exploring and Processing Data - Part 1</td>\n",
       "        <td>45</td> \n",
       "      </tr>\n",
       "      <tr>\n",
       "        <td>Exploring and Processing Data - Part 2</td>\n",
       "        <td>45</td> \n",
       "      </tr>\n",
       "      <tr>\n",
       "        <td>Building Predictive Model</td>\n",
       "        <td>30</td> \n",
       "      </tr>\n",
       "  </table>\n",
       "</body>\n",
       "</html>\n"
      ],
      "text/plain": [
       "<IPython.core.display.HTML object>"
      ]
     },
     "metadata": {},
     "output_type": "display_data"
    }
   ],
   "source": [
    "# let's see what this html page looks like\n",
    "from IPython.core.display import display, HTML\n",
    "display(HTML(html_string))"
   ]
  },
  {
   "cell_type": "code",
   "execution_count": 5,
   "metadata": {},
   "outputs": [],
   "source": [
    "# how to use Beautiful soup"
   ]
  },
  {
   "cell_type": "code",
   "execution_count": null,
   "metadata": {},
   "outputs": [],
   "source": [
    "bs = BeautifulSoup(html_string)\n"
   ]
  }
 ],
 "metadata": {
  "kernelspec": {
   "display_name": "Python 3",
   "language": "python",
   "name": "python3"
  },
  "language_info": {
   "codemirror_mode": {
    "name": "ipython",
    "version": 3
   },
   "file_extension": ".py",
   "mimetype": "text/x-python",
   "name": "python",
   "nbconvert_exporter": "python",
   "pygments_lexer": "ipython3",
   "version": "3.6.5"
  }
 },
 "nbformat": 4,
 "nbformat_minor": 2
}
