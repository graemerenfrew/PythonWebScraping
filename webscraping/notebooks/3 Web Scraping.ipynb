{
 "cells": [
  {
   "cell_type": "markdown",
   "metadata": {},
   "source": [
    "# Extracting data using Web Scraping\n"
   ]
  },
  {
   "cell_type": "code",
   "execution_count": 1,
   "metadata": {},
   "outputs": [],
   "source": [
    "# import \n",
    "import requests #some package we used with API"
   ]
  },
  {
   "cell_type": "code",
   "execution_count": 2,
   "metadata": {},
   "outputs": [],
   "source": [
    "from bs4 import BeautifulSoup"
   ]
  },
  {
   "cell_type": "code",
   "execution_count": 3,
   "metadata": {},
   "outputs": [],
   "source": [
    "#Let's create a dummy HTML document for the purposes of this exercise\n",
    "# HTML String\n",
    "html_string = \"\"\"\n",
    "<!doctype html>\n",
    "<html lang=\"en\">\n",
    "<head>\n",
    "  <title>Web Scraping Example</title>\n",
    "</head>\n",
    "<body>\n",
    "  <h1 style=\"color:#F15B2A;\">Web Scraping Example</h1>\n",
    "  <p id=\"author\">Author : Graeme Renfrew</p>\n",
    "  <p id=\"description\">This exercise shows how to perform various data science activities using python.</p>\n",
    "  \n",
    "  <h3 style=\"color:#404040\">Movies</h3>\n",
    "  <table id=\"module\" style=\"width:100%\">\n",
    "      <tr>\n",
    "        <th>Title</th>\n",
    "        <th>Duration (In Minutes)</th> \n",
    "      </tr>\n",
    "      <tr>\n",
    "        <td>Jaws</td>\n",
    "        <td>130</td> \n",
    "      </tr>\n",
    "      <tr>\n",
    "        <td>Star Wars: A New Hope</td>\n",
    "        <td>125</td> \n",
    "      </tr>\n",
    "      <tr>\n",
    "        <td>Life is Beautiful</td>\n",
    "        <td>122</td> \n",
    "      </tr>\n",
    "      <tr>\n",
    "        <td>Life of Brian</td>\n",
    "        <td>94</td> \n",
    "      </tr>\n",
    "      <tr>\n",
    "        <td>Arrival</td>\n",
    "        <td>118</td> \n",
    "      </tr>\n",
    "      <tr>\n",
    "        <td>American Gangster</td>\n",
    "        <td>176</td> \n",
    "      </tr>\n",
    "  </table>\n",
    "</body>\n",
    "</html>\n",
    "\"\"\""
   ]
  },
  {
   "cell_type": "code",
   "execution_count": 4,
   "metadata": {},
   "outputs": [
    {
     "data": {
      "text/html": [
       "\n",
       "<!doctype html>\n",
       "<html lang=\"en\">\n",
       "<head>\n",
       "  <title>Web Scraping Example</title>\n",
       "</head>\n",
       "<body>\n",
       "  <h1 style=\"color:#F15B2A;\">Web Scraping Example</h1>\n",
       "  <p id=\"author\">Author : Graeme Renfrew</p>\n",
       "  <p id=\"description\">This exercise shows how to perform various data science activities using python.</p>\n",
       "  \n",
       "  <h3 style=\"color:#404040\">Movies</h3>\n",
       "  <table id=\"module\" style=\"width:100%\">\n",
       "      <tr>\n",
       "        <th>Title</th>\n",
       "        <th>Duration (In Minutes)</th> \n",
       "      </tr>\n",
       "      <tr>\n",
       "        <td>Jaws</td>\n",
       "        <td>130</td> \n",
       "      </tr>\n",
       "      <tr>\n",
       "        <td>Star Wars: A New Hope</td>\n",
       "        <td>125</td> \n",
       "      </tr>\n",
       "      <tr>\n",
       "        <td>Life is Beautiful</td>\n",
       "        <td>122</td> \n",
       "      </tr>\n",
       "      <tr>\n",
       "        <td>Life of Brian</td>\n",
       "        <td>94</td> \n",
       "      </tr>\n",
       "      <tr>\n",
       "        <td>Arrival</td>\n",
       "        <td>118</td> \n",
       "      </tr>\n",
       "      <tr>\n",
       "        <td>American Gangster</td>\n",
       "        <td>176</td> \n",
       "      </tr>\n",
       "  </table>\n",
       "</body>\n",
       "</html>\n"
      ],
      "text/plain": [
       "<IPython.core.display.HTML object>"
      ]
     },
     "metadata": {},
     "output_type": "display_data"
    }
   ],
   "source": [
    "# let's see what this html page looks like\n",
    "from IPython.core.display import display, HTML\n",
    "display(HTML(html_string))"
   ]
  },
  {
   "cell_type": "code",
   "execution_count": 5,
   "metadata": {},
   "outputs": [],
   "source": [
    "# how to use Beautiful soup"
   ]
  },
  {
   "cell_type": "code",
   "execution_count": 7,
   "metadata": {},
   "outputs": [
    {
     "name": "stdout",
     "output_type": "stream",
     "text": [
      "<!DOCTYPE html>\n",
      "<html lang=\"en\">\n",
      "<head>\n",
      "<title>Web Scraping Example</title>\n",
      "</head>\n",
      "<body>\n",
      "<h1 style=\"color:#F15B2A;\">Web Scraping Example</h1>\n",
      "<p id=\"author\">Author : Graeme Renfrew</p>\n",
      "<p id=\"description\">This exercise shows how to perform various data science activities using python.</p>\n",
      "<h3 style=\"color:#404040\">Movies</h3>\n",
      "<table id=\"module\" style=\"width:100%\">\n",
      "<tr>\n",
      "<th>Title</th>\n",
      "<th>Duration (In Minutes)</th>\n",
      "</tr>\n",
      "<tr>\n",
      "<td>Jaws</td>\n",
      "<td>130</td>\n",
      "</tr>\n",
      "<tr>\n",
      "<td>Star Wars: A New Hope</td>\n",
      "<td>125</td>\n",
      "</tr>\n",
      "<tr>\n",
      "<td>Life is Beautiful</td>\n",
      "<td>122</td>\n",
      "</tr>\n",
      "<tr>\n",
      "<td>Life of Brian</td>\n",
      "<td>94</td>\n",
      "</tr>\n",
      "<tr>\n",
      "<td>Arrival</td>\n",
      "<td>118</td>\n",
      "</tr>\n",
      "<tr>\n",
      "<td>American Gangster</td>\n",
      "<td>176</td>\n",
      "</tr>\n",
      "</table>\n",
      "</body>\n",
      "</html>\n",
      "\n"
     ]
    },
    {
     "name": "stderr",
     "output_type": "stream",
     "text": [
      "/anaconda3/lib/python3.6/site-packages/bs4/__init__.py:181: UserWarning: No parser was explicitly specified, so I'm using the best available HTML parser for this system (\"lxml\"). This usually isn't a problem, but if you run this code on another system, or in a different virtual environment, it may use a different parser and behave differently.\n",
      "\n",
      "The code that caused this warning is on line 193 of the file /anaconda3/lib/python3.6/runpy.py. To get rid of this warning, change code that looks like this:\n",
      "\n",
      " BeautifulSoup(YOUR_MARKUP})\n",
      "\n",
      "to this:\n",
      "\n",
      " BeautifulSoup(YOUR_MARKUP, \"lxml\")\n",
      "\n",
      "  markup_type=markup_type))\n"
     ]
    }
   ],
   "source": [
    "bs = BeautifulSoup(html_string)\n",
    "print(bs)\n"
   ]
  },
  {
   "cell_type": "code",
   "execution_count": 8,
   "metadata": {},
   "outputs": [],
   "source": [
    "body = bs.find(bs.body)"
   ]
  },
  {
   "cell_type": "code",
   "execution_count": 9,
   "metadata": {},
   "outputs": [
    {
     "name": "stdout",
     "output_type": "stream",
     "text": [
      "None\n"
     ]
    }
   ],
   "source": [
    "print(body)"
   ]
  },
  {
   "cell_type": "code",
   "execution_count": null,
   "metadata": {},
   "outputs": [],
   "source": []
  }
 ],
 "metadata": {
  "kernelspec": {
   "display_name": "Python 3",
   "language": "python",
   "name": "python3"
  },
  "language_info": {
   "codemirror_mode": {
    "name": "ipython",
    "version": 3
   },
   "file_extension": ".py",
   "mimetype": "text/x-python",
   "name": "python",
   "nbconvert_exporter": "python",
   "pygments_lexer": "ipython3",
   "version": "3.6.5"
  }
 },
 "nbformat": 4,
 "nbformat_minor": 2
}
